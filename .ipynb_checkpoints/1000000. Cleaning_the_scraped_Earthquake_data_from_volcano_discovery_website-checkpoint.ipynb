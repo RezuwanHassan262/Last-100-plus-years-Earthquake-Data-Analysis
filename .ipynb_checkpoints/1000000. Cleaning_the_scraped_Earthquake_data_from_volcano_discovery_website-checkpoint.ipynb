{
 "cells": [
  {
   "cell_type": "markdown",
   "metadata": {
    "id": "cs96BNNrhoZd"
   },
   "source": [
    "Scrape the last table from this Wikipedia Page: https://www.volcanodiscovery.com/earthquakes/bangladesh/largest.html"
   ]
  },
  {
   "cell_type": "code",
   "execution_count": null,
   "metadata": {},
   "outputs": [],
   "source": [
    "import pandas as pd\n",
    "from datetime import datetime\n",
    "\n",
    "df= pd.read_csv(\"MessyEarthquakeData.csv\")\n",
    "df"
   ]
  },
  {
   "cell_type": "code",
   "execution_count": null,
   "metadata": {},
   "outputs": [],
   "source": []
  },
  {
   "cell_type": "code",
   "execution_count": 149,
   "metadata": {},
   "outputs": [
    {
     "data": {
      "text/html": [
       "<div>\n",
       "<style scoped>\n",
       "    .dataframe tbody tr th:only-of-type {\n",
       "        vertical-align: middle;\n",
       "    }\n",
       "\n",
       "    .dataframe tbody tr th {\n",
       "        vertical-align: top;\n",
       "    }\n",
       "\n",
       "    .dataframe thead th {\n",
       "        text-align: right;\n",
       "    }\n",
       "</style>\n",
       "<table border=\"1\" class=\"dataframe\">\n",
       "  <thead>\n",
       "    <tr style=\"text-align: right;\">\n",
       "      <th></th>\n",
       "      <th>Date</th>\n",
       "      <th>Day</th>\n",
       "      <th>Month</th>\n",
       "      <th>Year</th>\n",
       "      <th>Time (GMT)</th>\n",
       "      <th>Latitude (N)</th>\n",
       "      <th>Longitude (E)</th>\n",
       "      <th>Magnitude</th>\n",
       "      <th>Location</th>\n",
       "      <th>Country</th>\n",
       "    </tr>\n",
       "  </thead>\n",
       "  <tbody>\n",
       "    <tr>\n",
       "      <th>25</th>\n",
       "      <td>'Mar 27, 2012</td>\n",
       "      <td>27</td>\n",
       "      <td>March</td>\n",
       "      <td>2012</td>\n",
       "      <td>23:40</td>\n",
       "      <td>26.087</td>\n",
       "      <td>87.777</td>\n",
       "      <td>5.0</td>\n",
       "      <td>Nepal-India border region</td>\n",
       "      <td>region</td>\n",
       "    </tr>\n",
       "    <tr>\n",
       "      <th>84</th>\n",
       "      <td>'Jun 19, 1979</td>\n",
       "      <td>19</td>\n",
       "      <td>June</td>\n",
       "      <td>1979</td>\n",
       "      <td>16:29</td>\n",
       "      <td>26.741</td>\n",
       "      <td>87.506</td>\n",
       "      <td>5.1</td>\n",
       "      <td>Nepal-India border region</td>\n",
       "      <td>region</td>\n",
       "    </tr>\n",
       "  </tbody>\n",
       "</table>\n",
       "</div>"
      ],
      "text/plain": [
       "             Date  Day  Month  Year Time (GMT)  Latitude (N)  Longitude (E)  \\\n",
       "25  'Mar 27, 2012   27  March  2012      23:40        26.087         87.777   \n",
       "84  'Jun 19, 1979   19   June  1979      16:29        26.741         87.506   \n",
       "\n",
       "    Magnitude                    Location Country  \n",
       "25        5.0   Nepal-India border region  region  \n",
       "84        5.1   Nepal-India border region  region  "
      ]
     },
     "execution_count": 149,
     "metadata": {},
     "output_type": "execute_result"
    }
   ],
   "source": [
    "df= pd.read_csv(\"MessyEarthquakeData.csv\")\n",
    "\n",
    "\n",
    "\n",
    "\n",
    "for i in df['Country']:\n",
    "  if i[-1] == \"'\":\n",
    "    df['Country'] = df['Country'].replace([i], i[:-1])\n",
    "  else:\n",
    "    pass\n",
    "\n",
    "\n",
    "for i in df['Location']:\n",
    "  if i[-1] == \"'\":\n",
    "    df['Location'] = df['Location'].replace([i], i[:-1])\n",
    "  else:\n",
    "    pass\n",
    "\n",
    "#===================================================================================================\n",
    "\n",
    "        \n",
    "x = df.query('Location == \" Nepal-India border region\"')\n",
    "x\n",
    "\n",
    "        \n",
    "        \n",
    "# # q = \"Nepal-India border region'\"\n",
    "# # k = \"\"\" Location== \"Nepal-India border region'\" \"\"\"\n",
    "# # print(k)\n",
    "\n",
    "#===================================================================================================\n",
    "\n",
    "\n",
    "\n",
    "# loc = list(df['Location'])\n",
    "# for i in loc:\n",
    "    \n",
    "#     #print(i)\n",
    "    \n",
    "#     if \"(Myanmar (Burma))\" in i:\n",
    "#         df['Location'] = df['Location'].replace([i], i[:-18])\n",
    "#         #print(i[:-18])\n",
    "\n",
    "#     elif i[-1] == \"'\":\n",
    "#         df['Location'] = df['Location'].replace([i], i[:-1])\n",
    "\n",
    "\n",
    "\n",
    "# for i in df['Date']:\n",
    "#   df['Date'] = df['Date'].replace([i], i[1:])\n",
    "\n",
    "\n",
    "\n",
    "# def mdy_to_ymd(d):\n",
    "#     return datetime.strptime(d, '%b %d, %Y').strftime('%Y-%m-%d')\n",
    "\n",
    "# for i in df['Date']:\n",
    "#   df['Date'] = df['Date'].replace([i], mdy_to_ymd(i))\n",
    "\n",
    "\n",
    "\n",
    "\n",
    "#f"
   ]
  },
  {
   "cell_type": "code",
   "execution_count": null,
   "metadata": {},
   "outputs": [],
   "source": []
  },
  {
   "cell_type": "code",
   "execution_count": 13,
   "metadata": {
    "id": "q-4IDnQDKzF-"
   },
   "outputs": [],
   "source": [
    "for i in df['Country']:\n",
    "  if i == \"(Burma))'\" or i == \"(Burma))\" or  i == \" Myanmar\":\n",
    "    df['Country'] = df['Country'].replace([i], \"Myanmar\")\n",
    "  elif i == \"India Region'\" or i == \"Assam\" or i == \"India'\" or i == \" India\" or i == \" India Region\" or i == \"Meghalaya\" or i == \" India\":\n",
    "    df['Country'] = df['Country'].replace([i], \"India\")\n",
    "  elif i == \"Bangladesh'\" or i == \" Bangladesh\":\n",
    "    df['Country'] = df['Country'].replace([i], \"Bangladesh\")\n",
    "\n"
   ]
  },
  {
   "cell_type": "code",
   "execution_count": 14,
   "metadata": {
    "colab": {
     "base_uri": "https://localhost:8080/"
    },
    "id": "caE0u7nB0-qU",
    "outputId": "6fda8b54-f86e-40b6-b1f0-f23835ae95d9"
   },
   "outputs": [
    {
     "name": "stdout",
     "output_type": "stream",
     "text": [
      "[' India region' ' Meghalaya' 'Bangladesh' 'Bhutan' 'India'\n",
      " 'India-Bangladesh Border' 'Myanmar' 'Myanmar-India Border' 'region']\n"
     ]
    }
   ],
   "source": [
    "import numpy as np\n",
    "\n",
    "x = np.array(df[[\"Country\"]])\n",
    "print(np.unique(x))\n",
    "\n",
    "#print(x)"
   ]
  },
  {
   "cell_type": "code",
   "execution_count": 15,
   "metadata": {
    "colab": {
     "base_uri": "https://localhost:8080/"
    },
    "id": "wIrkXJw_JI1J",
    "outputId": "3973d30e-78a1-4cb3-9593-b056ca41cde7"
   },
   "outputs": [
    {
     "data": {
      "text/plain": [
       "Date             0\n",
       "Day              0\n",
       "Month            0\n",
       "Year             0\n",
       "Time (GMT)       0\n",
       "Latitude (N)     0\n",
       "Longitude (E)    0\n",
       "Magnitude        0\n",
       "Location         0\n",
       "Country          0\n",
       "dtype: int64"
      ]
     },
     "execution_count": 15,
     "metadata": {},
     "output_type": "execute_result"
    }
   ],
   "source": [
    "df.isnull().sum()"
   ]
  },
  {
   "cell_type": "code",
   "execution_count": 16,
   "metadata": {
    "colab": {
     "base_uri": "https://localhost:8080/",
     "height": 35
    },
    "id": "akcDzp9PfjCa",
    "outputId": "bf4f1ef0-efbc-4d52-8edd-fa26e05972b9"
   },
   "outputs": [
    {
     "data": {
      "text/plain": [
       "7.2"
      ]
     },
     "execution_count": 16,
     "metadata": {},
     "output_type": "execute_result"
    }
   ],
   "source": [
    "max(df[\"Magnitude\"])"
   ]
  },
  {
   "cell_type": "code",
   "execution_count": null,
   "metadata": {},
   "outputs": [],
   "source": [
    "pd.set_option('display.max_columns', None)\n",
    "pd.set_option('display.max_rows', None)\n",
    "df"
   ]
  },
  {
   "cell_type": "code",
   "execution_count": 18,
   "metadata": {},
   "outputs": [
    {
     "data": {
      "text/plain": [
       "110"
      ]
     },
     "execution_count": 18,
     "metadata": {},
     "output_type": "execute_result"
    }
   ],
   "source": [
    "len(df)"
   ]
  },
  {
   "cell_type": "code",
   "execution_count": 19,
   "metadata": {
    "id": "Auwb-f7MJIyx"
   },
   "outputs": [],
   "source": [
    "df.to_csv('EarthquakeData.csv', index = False)"
   ]
  },
  {
   "cell_type": "code",
   "execution_count": null,
   "metadata": {
    "id": "I_sYICTfJIwx"
   },
   "outputs": [],
   "source": []
  },
  {
   "cell_type": "markdown",
   "metadata": {
    "id": "7U76Rgppc5ku"
   },
   "source": [
    "# Experimenting, Debugging & Pattern decoding section"
   ]
  },
  {
   "cell_type": "code",
   "execution_count": null,
   "metadata": {
    "colab": {
     "base_uri": "https://localhost:8080/"
    },
    "id": "QneUNil9AQyI",
    "outputId": "a8462015-9a5d-4de6-a892-a925c1dc09d3"
   },
   "outputs": [
    {
     "name": "stdout",
     "output_type": "stream",
     "text": [
      " Bangladesh'\n",
      "Bangladesh'\n"
     ]
    }
   ],
   "source": [
    "#print(fn[107])\n",
    "print(area[107])\n",
    "print(country[107])"
   ]
  },
  {
   "cell_type": "code",
   "execution_count": null,
   "metadata": {
    "colab": {
     "base_uri": "https://localhost:8080/"
    },
    "id": "ka2_qLwkCh-6",
    "outputId": "50b1691f-52db-4853-f6c4-95a53fe09659"
   },
   "outputs": [
    {
     "name": "stdout",
     "output_type": "stream",
     "text": [
      "('quake-6509560',22.81,93.5248,'Nov 25, 2021 23:45 GMT: Mag. 6.2, Myanmar (Burma): 19 Km SW of Falam, Myanmar','',6.2,62, '#bb202a', 0.9,1.5, '#bb202a', 0.45);\n",
      "                quakeInfo.push([6221945,6.0,68057236]);\n",
      "\n",
      "('quake-6221945',26.75,92.42,'Apr 28, 2021 02:24 GMT: Mag. 6.0, Northeastern India','',6.0,60, '#bb202a', 0.9,1.5, '#bb202a', 0.45);\n",
      "                quakeInfo.push([5942365,5.4,85282394]);\n",
      "\n",
      "('quake-5942365',24.56,93.58,'Oct 10, 2020 17:38 GMT: Mag. 5.4, Myanmar-India Border Region','',5.4,54, '#bb202a', 0.9,1.5, '#bb202a', 0.45);\n",
      "                quakeInfo.push([5898619,5.1,88881818]);\n",
      "\n",
      "('quake-5898619',23.4098,92.0087,'Aug 30, 2020 01:47 GMT: Mag. 5.1, 33 Km N of Khagrachhari, Bangladesh','',5.1,51, '#bb202a', 0.9,1.5, '#bb202a', 0.45);\n",
      "                quakeInfo.push([5889436,5.3,89103840]);\n",
      "\n",
      "('quake-5889436',23.06,93.29,'Aug 27, 2020 12:07 GMT: Mag. 5.3, Myanmar-India Border Region','',5.3,53, '#bb202a', 0.9,1.5, '#bb202a', 0.45);\n",
      "                quakeInfo.push([2848141,5.5,94854624]);\n",
      "\n",
      "('quake-2653440',20.53,93.47,'Jan 23, 2020 09:48 GMT: Mag. 5.4, Myanmar (Myanmar (Burma))','',5.4,54, '#bb202a', 0.9,1.5, '#bb202a', 0.45);\n",
      "                quakeInfo.push([2284256,5.0,132341494]);\n",
      "\n",
      "('quake-2284256',22.7,93.2,'Apr 15, 2019 01:39 GMT: Mag. 5.0, Myanmar-india Border Region (Myanmar (Burma))','',5.0,50, '#bb202a', 0.9,1.5, '#bb202a', 0.45);\n",
      "                quakeInfo.push([2174704,5.0,145763733]);\n",
      "\n",
      "('quake-2930538',24.937,90.721,'Sep 9, 1923 22:03 GMT: Mag. 6.8, Bangladesh','',6.8,68, '#bb202a', 0.9,1.5, '#bb202a', 0.45);\n",
      "                quakeInfo.push([2930299,7.2,3312348549]);\n"
     ]
    }
   ],
   "source": [
    "print(info[0])\n",
    "print()\n",
    "print(info[1])\n",
    "print()\n",
    "print(info[2])\n",
    "print()\n",
    "print(info[3])\n",
    "print()\n",
    "print(info[4])\n",
    "print()\n",
    "print(info[7])\n",
    "print()\n",
    "print(info[8])\n",
    "print()\n",
    "print(info[107])\n"
   ]
  },
  {
   "cell_type": "code",
   "execution_count": null,
   "metadata": {
    "colab": {
     "base_uri": "https://localhost:8080/"
    },
    "id": "rpk8eoSC_mAJ",
    "outputId": "0e6bb977-7cd1-45ec-e52f-7187f6265171"
   },
   "outputs": [
    {
     "data": {
      "text/plain": [
       "[\"('quake-3144705'\",\n",
       " '26.863',\n",
       " '91.632',\n",
       " \"'Feb 23\",\n",
       " ' 2006 20:07 GMT: Mag. 5.2',\n",
       " ' Assam',\n",
       " \" India (Bhutan)'\",\n",
       " \"''\",\n",
       " '5.2',\n",
       " '52',\n",
       " \" '#bb202a'\",\n",
       " ' 0.9',\n",
       " '1.5',\n",
       " \" '#bb202a'\",\n",
       " ' 0.45);\\n                quakeInfo.push([3144703',\n",
       " '5.8',\n",
       " '546908784]);']"
      ]
     },
     "execution_count": 105,
     "metadata": {},
     "output_type": "execute_result"
    }
   ],
   "source": [
    "earthquakeInfo = {}\n",
    "x = info[30].split(\",\")\n",
    "x"
   ]
  },
  {
   "cell_type": "code",
   "execution_count": null,
   "metadata": {
    "colab": {
     "base_uri": "https://localhost:8080/",
     "height": 35
    },
    "id": "wycgDs8GEeUV",
    "outputId": "a0c9e30f-9703-468d-96e8-390402b205c8"
   },
   "outputs": [
    {
     "data": {
      "application/vnd.google.colaboratory.intrinsic+json": {
       "type": "string"
      },
      "text/plain": [
       "' Assam'"
      ]
     },
     "execution_count": 106,
     "metadata": {},
     "output_type": "execute_result"
    }
   ],
   "source": [
    "x[5]"
   ]
  },
  {
   "cell_type": "code",
   "execution_count": null,
   "metadata": {
    "colab": {
     "base_uri": "https://localhost:8080/"
    },
    "id": "j1kXf8icDblS",
    "outputId": "05754170-095f-499f-d15d-7b22c2aa73bf"
   },
   "outputs": [
    {
     "data": {
      "text/plain": [
       "['', 'Assam']"
      ]
     },
     "execution_count": 107,
     "metadata": {},
     "output_type": "execute_result"
    }
   ],
   "source": [
    "y = x[5].split(\" \")\n",
    "y"
   ]
  },
  {
   "cell_type": "code",
   "execution_count": null,
   "metadata": {
    "colab": {
     "base_uri": "https://localhost:8080/",
     "height": 35
    },
    "id": "zCadC8XB9H4E",
    "outputId": "71ed6a23-d563-4241-8c41-a5e95afbc073"
   },
   "outputs": [
    {
     "data": {
      "application/vnd.google.colaboratory.intrinsic+json": {
       "type": "string"
      },
      "text/plain": [
       "'Assam'"
      ]
     },
     "execution_count": 108,
     "metadata": {},
     "output_type": "execute_result"
    }
   ],
   "source": [
    "y[1]"
   ]
  },
  {
   "cell_type": "code",
   "execution_count": null,
   "metadata": {
    "colab": {
     "base_uri": "https://localhost:8080/",
     "height": 35
    },
    "id": "dRIPG82-DP5-",
    "outputId": "45e574d1-7438-40fc-f1b2-50c5a627a09e"
   },
   "outputs": [
    {
     "data": {
      "application/vnd.google.colaboratory.intrinsic+json": {
       "type": "string"
      },
      "text/plain": [
       "'5.2'"
      ]
     },
     "execution_count": 109,
     "metadata": {},
     "output_type": "execute_result"
    }
   ],
   "source": [
    "y = x[4].split(\" \")\n",
    "y[-1]"
   ]
  },
  {
   "cell_type": "code",
   "execution_count": null,
   "metadata": {
    "colab": {
     "base_uri": "https://localhost:8080/"
    },
    "id": "hpNYmhapQnZF",
    "outputId": "43e5b916-4ada-4e62-c0d4-001216d31976"
   },
   "outputs": [
    {
     "data": {
      "text/plain": [
       "[\"('quake-6221945'\",\n",
       " '26.75',\n",
       " '92.42',\n",
       " \"'Apr 28\",\n",
       " ' 2021 02:24 GMT: Mag. 6.0',\n",
       " \" Northeastern India'\",\n",
       " \"''\",\n",
       " '6.0',\n",
       " '60',\n",
       " \" '#bb202a'\",\n",
       " ' 0.9',\n",
       " '1.5',\n",
       " \" '#bb202a'\",\n",
       " ' 0.45);\\n                quakeInfo.push([5942365',\n",
       " '5.4',\n",
       " '85282394]);']"
      ]
     },
     "execution_count": 110,
     "metadata": {},
     "output_type": "execute_result"
    }
   ],
   "source": [
    "x = info[1].split(\",\")\n",
    "x"
   ]
  },
  {
   "cell_type": "code",
   "execution_count": null,
   "metadata": {
    "id": "OzxmChTVc87n"
   },
   "outputs": [],
   "source": []
  },
  {
   "cell_type": "code",
   "execution_count": null,
   "metadata": {
    "colab": {
     "base_uri": "https://localhost:8080/"
    },
    "id": "TChvjaAJOYtA",
    "outputId": "ee95f9f6-fb75-41fc-ac88-f9aca4341d80"
   },
   "outputs": [
    {
     "data": {
      "text/plain": [
       "['Date and time', 'MagDepth', 'Location', 'Details', 'Map']"
      ]
     },
     "execution_count": 243,
     "metadata": {},
     "output_type": "execute_result"
    }
   ],
   "source": [
    "col_names = [raw_name.text.replace(\"\\n\",\"\") for raw_name in table_rows[0].find_all(name=\"td\")] #Extracting column names excluding the new lines\n",
    "col_names.remove(\"Nearest volcano (distance)\")\n",
    "col_names"
   ]
  },
  {
   "cell_type": "code",
   "execution_count": null,
   "metadata": {
    "id": "Q-_3wSvpPtRv"
   },
   "outputs": [],
   "source": [
    "for row_id in table_rows_1:\n",
    "  print(row_id)"
   ]
  },
  {
   "cell_type": "code",
   "execution_count": null,
   "metadata": {
    "id": "JtQlLniIPHWP"
   },
   "outputs": [],
   "source": [
    "contents = [{col_names[idx] : raw_name.text.replace(\"\\n\", \"\").strip()\n",
    "            for idx, raw_name in enumerate(table_rows[row_id].find_all(name=\"td\"))}\n",
    "            for row_id in range(1, len(table_rows))]"
   ]
  },
  {
   "cell_type": "code",
   "execution_count": null,
   "metadata": {
    "id": "8nyaYvmHKcJp"
   },
   "outputs": [],
   "source": [
    "tBody = tables[0].find_all(name=\"tbody\") #Targeted table with \"tbody\" tag\n",
    "tBody"
   ]
  },
  {
   "cell_type": "code",
   "execution_count": null,
   "metadata": {
    "id": "_CeHvJKBkFmu"
   },
   "outputs": [],
   "source": [
    "tables = web_page.find_all(name=\"table\",attrs = {\"class\":\"q-table\"}) #With class name\n",
    "#tables\n",
    "\n",
    "table_rows = web_page.find_all(name=\"tr\")\n",
    "#table_rows\n",
    "print(len(table_rows))"
   ]
  },
  {
   "cell_type": "code",
   "execution_count": null,
   "metadata": {
    "id": "0icvt5J4J4zN"
   },
   "outputs": [],
   "source": [
    "# tBody = tables[0].find_all(name=\"tbody\") #Targeted table with \"tbody\" tag\n",
    "# tBody\n",
    "\n",
    "\n",
    "# table_rows = tables[0].find_all(name=\"tr\") #Targeted table with \"tr\" tag\n",
    "# len(table_rows)"
   ]
  },
  {
   "cell_type": "code",
   "execution_count": null,
   "metadata": {
    "id": "A0flkvqCkFjj"
   },
   "outputs": [],
   "source": [
    "col_names = [ raw_name.text.replace(\"\\n\", \"\") for raw_name in table_rows[0].find_all(name=\"th\")]\n",
    "col_names"
   ]
  },
  {
   "cell_type": "code",
   "execution_count": null,
   "metadata": {
    "id": "h58DHg_6ht49"
   },
   "outputs": [],
   "source": []
  },
  {
   "cell_type": "code",
   "execution_count": 21,
   "metadata": {},
   "outputs": [
    {
     "data": {
      "text/html": [
       "<div>\n",
       "<style scoped>\n",
       "    .dataframe tbody tr th:only-of-type {\n",
       "        vertical-align: middle;\n",
       "    }\n",
       "\n",
       "    .dataframe tbody tr th {\n",
       "        vertical-align: top;\n",
       "    }\n",
       "\n",
       "    .dataframe thead th {\n",
       "        text-align: right;\n",
       "    }\n",
       "</style>\n",
       "<table border=\"1\" class=\"dataframe\">\n",
       "  <thead>\n",
       "    <tr style=\"text-align: right;\">\n",
       "      <th></th>\n",
       "      <th>epoch</th>\n",
       "      <th>train_loss</th>\n",
       "      <th>valid_loss</th>\n",
       "      <th>error_rate</th>\n",
       "      <th>accuracy</th>\n",
       "      <th>time</th>\n",
       "    </tr>\n",
       "  </thead>\n",
       "  <tbody>\n",
       "    <tr>\n",
       "      <th>0</th>\n",
       "      <td>0</td>\n",
       "      <td>0.903610</td>\n",
       "      <td>0.609631</td>\n",
       "      <td>0.159063</td>\n",
       "      <td>0.840937</td>\n",
       "      <td>30:17</td>\n",
       "    </tr>\n",
       "    <tr>\n",
       "      <th>1</th>\n",
       "      <td>1</td>\n",
       "      <td>0.775346</td>\n",
       "      <td>0.558051</td>\n",
       "      <td>0.156597</td>\n",
       "      <td>0.843403</td>\n",
       "      <td>29:49</td>\n",
       "    </tr>\n",
       "    <tr>\n",
       "      <th>2</th>\n",
       "      <td>2</td>\n",
       "      <td>0.741749</td>\n",
       "      <td>0.546151</td>\n",
       "      <td>0.154747</td>\n",
       "      <td>0.845253</td>\n",
       "      <td>31:48</td>\n",
       "    </tr>\n",
       "    <tr>\n",
       "      <th>3</th>\n",
       "      <td>3</td>\n",
       "      <td>0.604317</td>\n",
       "      <td>0.515605</td>\n",
       "      <td>0.136252</td>\n",
       "      <td>0.863748</td>\n",
       "      <td>31:04</td>\n",
       "    </tr>\n",
       "    <tr>\n",
       "      <th>4</th>\n",
       "      <td>4</td>\n",
       "      <td>0.423957</td>\n",
       "      <td>0.462101</td>\n",
       "      <td>0.122688</td>\n",
       "      <td>0.877312</td>\n",
       "      <td>40:50</td>\n",
       "    </tr>\n",
       "    <tr>\n",
       "      <th>5</th>\n",
       "      <td>5</td>\n",
       "      <td>0.395625</td>\n",
       "      <td>0.457082</td>\n",
       "      <td>0.120838</td>\n",
       "      <td>0.879162</td>\n",
       "      <td>33:19</td>\n",
       "    </tr>\n",
       "    <tr>\n",
       "      <th>6</th>\n",
       "      <td>6</td>\n",
       "      <td>0.290773</td>\n",
       "      <td>0.402679</td>\n",
       "      <td>0.104809</td>\n",
       "      <td>0.895191</td>\n",
       "      <td>38:30</td>\n",
       "    </tr>\n",
       "    <tr>\n",
       "      <th>7</th>\n",
       "      <td>7</td>\n",
       "      <td>0.239173</td>\n",
       "      <td>0.403826</td>\n",
       "      <td>0.090012</td>\n",
       "      <td>0.909988</td>\n",
       "      <td>33:29</td>\n",
       "    </tr>\n",
       "    <tr>\n",
       "      <th>8</th>\n",
       "      <td>8</td>\n",
       "      <td>0.182012</td>\n",
       "      <td>0.399640</td>\n",
       "      <td>0.092478</td>\n",
       "      <td>0.907522</td>\n",
       "      <td>37:02</td>\n",
       "    </tr>\n",
       "    <tr>\n",
       "      <th>9</th>\n",
       "      <td>9</td>\n",
       "      <td>0.162982</td>\n",
       "      <td>0.397217</td>\n",
       "      <td>0.092478</td>\n",
       "      <td>0.907522</td>\n",
       "      <td>41:48</td>\n",
       "    </tr>\n",
       "  </tbody>\n",
       "</table>\n",
       "</div>"
      ],
      "text/plain": [
       "   epoch  train_loss  valid_loss  error_rate  accuracy   time\n",
       "0      0    0.903610    0.609631    0.159063  0.840937  30:17\n",
       "1      1    0.775346    0.558051    0.156597  0.843403  29:49\n",
       "2      2    0.741749    0.546151    0.154747  0.845253  31:48\n",
       "3      3    0.604317    0.515605    0.136252  0.863748  31:04\n",
       "4      4    0.423957    0.462101    0.122688  0.877312  40:50\n",
       "5      5    0.395625    0.457082    0.120838  0.879162  33:19\n",
       "6      6    0.290773    0.402679    0.104809  0.895191  38:30\n",
       "7      7    0.239173    0.403826    0.090012  0.909988  33:29\n",
       "8      8    0.182012    0.399640    0.092478  0.907522  37:02\n",
       "9      9    0.162982    0.397217    0.092478  0.907522  41:48"
      ]
     },
     "execution_count": 21,
     "metadata": {},
     "output_type": "execute_result"
    }
   ],
   "source": [
    "dic = {\n",
    "\"epoch\": [0,1,2,3,4,5,6,7,8,9],\n",
    "  \"train_loss\" : [0.903610, 0.775346,0.741749, 0.604317, 0.423957, 0.395625, 0.290773,\t0.239173, 0.182012, 0.162982],\n",
    "  \"valid_loss\": [0.609631, 0.558051, 0.546151, 0.515605, 0.462101, 0.457082, 0.402679, 0.403826, 0.399640, 0.397217],\n",
    "  \"error_rate\": [0.159063, 0.156597, 0.154747, 0.136252, 0.122688, 0.120838, 0.104809, 0.090012, 0.092478, 0.092478],\n",
    "  \"accuracy\": [0.840937, 0.843403, 0.845253, 0.863748, 0.877312, 0.879162, 0.895191, 0.909988, 0.907522, 0.907522],\n",
    "  \"time\": [\"30:17\", \"29:49\", \"31:48\", \"31:04\", \"40:50\", \"33:19\", \"38:30\", \"33:29\", \"37:02\", \"41:48\"]\n",
    "}\n",
    "\n",
    "dic = pd.DataFrame(dic)\n",
    "\n",
    "dic"
   ]
  },
  {
   "cell_type": "code",
   "execution_count": 22,
   "metadata": {},
   "outputs": [
    {
     "data": {
      "text/plain": [
       "'31:48'"
      ]
     },
     "execution_count": 22,
     "metadata": {},
     "output_type": "execute_result"
    }
   ],
   "source": [
    "dic['time'][2]"
   ]
  },
  {
   "cell_type": "code",
   "execution_count": null,
   "metadata": {},
   "outputs": [],
   "source": []
  }
 ],
 "metadata": {
  "colab": {
   "provenance": []
  },
  "kernelspec": {
   "display_name": "Python 3 (ipykernel)",
   "language": "python",
   "name": "python3"
  },
  "language_info": {
   "codemirror_mode": {
    "name": "ipython",
    "version": 3
   },
   "file_extension": ".py",
   "mimetype": "text/x-python",
   "name": "python",
   "nbconvert_exporter": "python",
   "pygments_lexer": "ipython3",
   "version": "3.9.12"
  }
 },
 "nbformat": 4,
 "nbformat_minor": 1
}
